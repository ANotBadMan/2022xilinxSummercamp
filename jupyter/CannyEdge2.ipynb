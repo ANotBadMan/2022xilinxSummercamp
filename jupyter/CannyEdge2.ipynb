{
 "cells": [
  {
   "cell_type": "code",
   "execution_count": 39,
   "metadata": {},
   "outputs": [],
   "source": [
    "from PIL import Image\n",
    "import numpy as np\n",
    "from IPython.display import display\n",
    "from pynq import Xlnk\n",
    "from pynq import Overlay\n",
    "CannyEdge_design = Overlay(\"./bitstream/CannyEdge.bit\")\n",
    "dma = CannyEdge_design.axi_dma_0\n",
    "CannyEdge = CannyEdge_design.canny_edge_0\n",
    "image_path = \"images/paris.jpg\"\n",
    "original_image = Image.open(image_path)\n",
    "display(original_image)"
   ]
  },
  {
   "cell_type": "code",
   "execution_count": 44,
   "metadata": {},
   "outputs": [
    {
     "name": "stdout",
     "output_type": "stream",
     "text": [
      "Image size: 640x360 pixels.\n"
     ]
    }
   ],
   "source": [
    "pic_width, pic_height = original_image.size\n",
    "print(\"Image size: {}x{} pixels.\".format(pic_width, pic_height))\n",
    "original_image = original_image.convert('L') #gray scale the loaded image\n",
    "input_array = np.array(original_image)\n",
    "xlnk = Xlnk()\n",
    "in_buffer = xlnk.cma_array(shape=(pic_height, pic_width), \n",
    "                           dtype=np.uint8)\n",
    "out_buffer = xlnk.cma_array(shape=(pic_height, pic_width), \n",
    "                            dtype=np.uint8)"
   ]
  },
  {
   "cell_type": "code",
   "execution_count": 48,
   "metadata": {},
   "outputs": [],
   "source": [
    "np.copyto(in_buffer,input_array)\n",
    "buf_image = Image.fromarray(in_buffer)\n",
    "import time\n",
    "\n",
    "start_time = time.time()\n",
    "\n",
    "\n",
    "CannyEdge.write(0x14, pic_height) #rows\n",
    "CannyEdge.write(0x1c, pic_width) #cols\n",
    "\n",
    "#CannyEdge.write(0x7f6d722a58, 20) #Data signal of threshold1\n",
    "#CannyEdge.write(0x7f6d722a5c, 100) #Data signal of threshold2\n",
    "\n",
    "CannyEdge.write(0x24, 20) #Data signal of threshold1\n",
    "CannyEdge.write(0x2c, 100) #Data signal of threshold2\n",
    "dma.sendchannel.transfer(in_buffer)\n",
    "dma.recvchannel.transfer(out_buffer) \n",
    "CannyEdge.write(0x00,0x81) # start\n",
    "dma.sendchannel.wait()\n",
    "dma.recvchannel.wait()\n",
    "plt.imshow(out_buffer.reshape(pic_height, pic_width),cmap='gray')\n",
    "\n",
    "end_time = time.time()\n",
    "\n",
    "print(\"耗时：{}s\".format(end_time - start_time))"
   ]
  }
 ],
 "metadata": {
  "kernelspec": {
   "display_name": "Python 3",
   "language": "python",
   "name": "python3"
  },
  "language_info": {
   "codemirror_mode": {
    "name": "ipython",
    "version": 3
   },
   "file_extension": ".py",
   "mimetype": "text/x-python",
   "name": "python",
   "nbconvert_exporter": "python",
   "pygments_lexer": "ipython3",
   "version": "3.7.1"
  }
 },
 "nbformat": 4,
 "nbformat_minor": 2
}
